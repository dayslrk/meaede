{
 "cells": [
  {
   "cell_type": "code",
   "execution_count": 1,
   "metadata": {},
   "outputs": [
    {
     "name": "stderr",
     "output_type": "stream",
     "text": [
      "c:\\users\\daysl\\appdata\\local\\programs\\python\\python36\\lib\\site-packages\\tensorflow\\python\\framework\\dtypes.py:493: FutureWarning: Passing (type, 1) or '1type' as a synonym of type is deprecated; in a future version of numpy, it will be understood as (type, (1,)) / '(1,)type'.\n",
      "  _np_qint8 = np.dtype([(\"qint8\", np.int8, 1)])\n",
      "c:\\users\\daysl\\appdata\\local\\programs\\python\\python36\\lib\\site-packages\\tensorflow\\python\\framework\\dtypes.py:494: FutureWarning: Passing (type, 1) or '1type' as a synonym of type is deprecated; in a future version of numpy, it will be understood as (type, (1,)) / '(1,)type'.\n",
      "  _np_quint8 = np.dtype([(\"quint8\", np.uint8, 1)])\n",
      "c:\\users\\daysl\\appdata\\local\\programs\\python\\python36\\lib\\site-packages\\tensorflow\\python\\framework\\dtypes.py:495: FutureWarning: Passing (type, 1) or '1type' as a synonym of type is deprecated; in a future version of numpy, it will be understood as (type, (1,)) / '(1,)type'.\n",
      "  _np_qint16 = np.dtype([(\"qint16\", np.int16, 1)])\n",
      "c:\\users\\daysl\\appdata\\local\\programs\\python\\python36\\lib\\site-packages\\tensorflow\\python\\framework\\dtypes.py:496: FutureWarning: Passing (type, 1) or '1type' as a synonym of type is deprecated; in a future version of numpy, it will be understood as (type, (1,)) / '(1,)type'.\n",
      "  _np_quint16 = np.dtype([(\"quint16\", np.uint16, 1)])\n",
      "c:\\users\\daysl\\appdata\\local\\programs\\python\\python36\\lib\\site-packages\\tensorflow\\python\\framework\\dtypes.py:497: FutureWarning: Passing (type, 1) or '1type' as a synonym of type is deprecated; in a future version of numpy, it will be understood as (type, (1,)) / '(1,)type'.\n",
      "  _np_qint32 = np.dtype([(\"qint32\", np.int32, 1)])\n",
      "c:\\users\\daysl\\appdata\\local\\programs\\python\\python36\\lib\\site-packages\\tensorflow\\python\\framework\\dtypes.py:502: FutureWarning: Passing (type, 1) or '1type' as a synonym of type is deprecated; in a future version of numpy, it will be understood as (type, (1,)) / '(1,)type'.\n",
      "  np_resource = np.dtype([(\"resource\", np.ubyte, 1)])\n",
      "c:\\users\\daysl\\appdata\\local\\programs\\python\\python36\\lib\\site-packages\\sklearn\\externals\\joblib\\__init__.py:15: FutureWarning: sklearn.externals.joblib is deprecated in 0.21 and will be removed in 0.23. Please import this functionality directly from joblib, which can be installed with: pip install joblib. If this warning is raised when loading pickled models, you may need to re-serialize those models with scikit-learn 0.21+.\n",
      "  warnings.warn(msg, category=FutureWarning)\n"
     ]
    },
    {
     "name": "stdout",
     "output_type": "stream",
     "text": [
      "training...\n",
      " epoch 10/200 : loss = 34.913\n",
      " epoch 20/200 : loss = 18.773\n",
      " epoch 30/200 : loss = 15.988\n",
      " epoch 40/200 : loss = 15.553\n",
      " epoch 50/200 : loss = 15.314\n",
      " epoch 60/200 : loss = 15.085\n",
      " epoch 70/200 : loss = 14.790\n",
      " epoch 80/200 : loss = 13.911\n",
      " epoch 90/200 : loss = 12.798\n",
      " epoch 100/200 : loss = 12.443\n",
      " epoch 110/200 : loss = 12.271\n",
      " epoch 120/200 : loss = 12.124\n",
      " epoch 130/200 : loss = 11.960\n",
      " epoch 140/200 : loss = 11.785\n",
      " epoch 150/200 : loss = 11.608\n",
      " epoch 160/200 : loss = 11.442\n",
      " epoch 170/200 : loss = 11.276\n",
      " epoch 180/200 : loss = 11.085\n",
      " epoch 190/200 : loss = 10.858\n",
      " epoch 200/200 : loss = 10.659\n",
      "148.3287935256958\n",
      "done\n"
     ]
    }
   ],
   "source": [
    "import tensorflow as tf\n",
    "import numpy as np\n",
    "import pandas as pd\n",
    "from sklearn.model_selection import train_test_split\n",
    "from sklearn.metrics import precision_recall_fscore_support\n",
    "from dagmm import DAGMM\n",
    "from sklearn.preprocessing import MinMaxScaler\n",
    "import time\n",
    "\n",
    "CSV_FILE_PATH ='F:\\python_code\\imba_09-11181308-MachineLearningCVE\\MachineLearningCVE\\Friday-WorkingHours-Afternoon-DDos.pcap_ISCX.csv'\n",
    "df = pd.read_csv(CSV_FILE_PATH)\n",
    "df=df.drop(['Flow Bytes/s',' Flow Packets/s'],axis=1)\n",
    "\n",
    "#归一化\n",
    "sc = MinMaxScaler(feature_range=(0, 1))  \n",
    "Dataset = df.values\n",
    "labels=Dataset[:,-1]\n",
    "Dataset=Dataset[:,0:-1]\n",
    "labels= np.where(labels!='BENIGN',0,1)#处理数据\n",
    "\n",
    "df = sc.fit_transform(Dataset)\n",
    "\n",
    "x_train, x_test, y_train, y_test = train_test_split(df, labels, test_size=0.50, random_state=123)\n",
    "x_train, y_train = x_train[y_train == 0], y_train[y_train == 0]\n",
    "\n",
    "print(\"training...\")\n",
    "start=time.time()\n",
    "model = DAGMM(\n",
    "    comp_hiddens=[40, 20, 10, 1], comp_activation=tf.nn.tanh,\n",
    "    est_hiddens=[10, 5], est_dropout_ratio=0.5, est_activation=tf.nn.tanh,\n",
    "    learning_rate=0.0001, epoch_size=200, minibatch_size=1024, random_seed=1111\n",
    ")\n",
    "\n",
    "model.fit(x_train)\n",
    "end=time.time()\n",
    "print(end-start)\n",
    "print('done')"
   ]
  },
  {
   "cell_type": "code",
   "execution_count": 2,
   "metadata": {
    "scrolled": true
   },
   "outputs": [
    {
     "name": "stdout",
     "output_type": "stream",
     "text": [
      "69636 43237\n",
      "0.6169411639630381\n",
      "Energy thleshold to detect anomaly : 41.146\n",
      " Precision = 1.000\n",
      " Recall    = 0.902\n",
      " F1-Score  = 0.948\n"
     ]
    }
   ],
   "source": [
    "count_0,count_1=0,0\n",
    "for i in range(len(y_test)):\n",
    "    if labels[i]==0:\n",
    "        count_0+=1\n",
    "    if labels[i]==1:\n",
    "        count_1+=1\n",
    "print(count_0,count_1)\n",
    "print(count_0/(count_0+count_1))\n",
    "\n",
    "y_pred = model.predict(x_test)\n",
    "\n",
    "# Energy thleshold to detect anomaly = 80% percentile of energies\n",
    "anomaly_energy_threshold = np.percentile(y_pred, 61)\n",
    "print(f\"Energy thleshold to detect anomaly : {anomaly_energy_threshold:.3f}\")\n",
    "# Detect anomalies from test data\n",
    "y_pred_flag = np.where(y_pred >= anomaly_energy_threshold, 1, 0)\n",
    "prec, recall, fscore, _ = precision_recall_fscore_support(y_test, y_pred_flag, average=\"binary\")\n",
    "print(f\" Precision = {prec:.3f}\")\n",
    "print(f\" Recall    = {recall:.3f}\")\n",
    "print(f\" F1-Score  = {fscore:.3f}\")"
   ]
  },
  {
   "cell_type": "code",
   "execution_count": 10,
   "metadata": {
    "scrolled": false
   },
   "outputs": [
    {
     "data": {
      "image/png": "[encoded data removed]",
      "text/plain": [
       "<Figure size 432x288 with 1 Axes>"
      ]
     },
     "metadata": {},
     "output_type": "display_data"
    }
   ],
   "source": [
    "import matplotlib.pyplot as plt\n",
    "import matplotlib\n",
    "songTi = matplotlib.font_manager.FontProperties(fname='C:\\Windows\\Fonts\\simsun.ttc')\n",
    "x=[]\n",
    "for i in range(len(y_pred)):\n",
    "    x.append(i)\n",
    "\n",
    "plt.scatter(x[:2000],y_pred[:2000],s=0.5,c=y_test[:2000])\n",
    "plt.xlabel(\"数据点\",fontproperties=songTi)\n",
    "plt.ylabel(\"能量值\",fontproperties=songTi)\n",
    "plt.xticks([])\n",
    "plt.yticks([])\n",
    "# plt.yticks([])\n",
    "plt.show()"
   ]
  },
  {
   "cell_type": "code",
   "execution_count": null,
   "metadata": {},
   "outputs": [],
   "source": []
  }
 ],
 "metadata": {
  "kernelspec": {
   "display_name": "Python 3",
   "language": "python",
   "name": "python3"
  },
  "language_info": {
   "codemirror_mode": {
    "name": "ipython",
    "version": 3
   },
   "file_extension": ".py",
   "mimetype": "text/x-python",
   "name": "python",
   "nbconvert_exporter": "python",
   "pygments_lexer": "ipython3",
   "version": "3.6.8"
  }
 },
 "nbformat": 4,
 "nbformat_minor": 4
}
